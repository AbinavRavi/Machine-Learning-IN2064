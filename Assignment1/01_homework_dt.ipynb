{
 "cells": [
  {
   "cell_type": "markdown",
   "metadata": {},
   "source": [
    "# Machine Learning Homework 01 "
   ]
  },
  {
   "cell_type": "markdown",
   "metadata": {},
   "source": [
    "Done in Collaboration by Abhijeet Parida and Abinav Ravi Venkatakrishnan"
   ]
  },
  {
   "cell_type": "code",
   "execution_count": 1,
   "metadata": {},
   "outputs": [],
   "source": [
    "import numpy as np\n",
    "import pandas as pd"
   ]
  },
  {
   "cell_type": "code",
   "execution_count": 2,
   "metadata": {},
   "outputs": [
    {
     "data": {
      "text/html": [
       "<div>\n",
       "<style scoped>\n",
       "    .dataframe tbody tr th:only-of-type {\n",
       "        vertical-align: middle;\n",
       "    }\n",
       "\n",
       "    .dataframe tbody tr th {\n",
       "        vertical-align: top;\n",
       "    }\n",
       "\n",
       "    .dataframe thead th {\n",
       "        text-align: right;\n",
       "    }\n",
       "</style>\n",
       "<table border=\"1\" class=\"dataframe\">\n",
       "  <thead>\n",
       "    <tr style=\"text-align: right;\">\n",
       "      <th></th>\n",
       "      <th>x1</th>\n",
       "      <th>x2</th>\n",
       "      <th>x3</th>\n",
       "      <th>z</th>\n",
       "    </tr>\n",
       "  </thead>\n",
       "  <tbody>\n",
       "    <tr>\n",
       "      <th>0</th>\n",
       "      <td>5.5</td>\n",
       "      <td>0.5</td>\n",
       "      <td>4.5</td>\n",
       "      <td>2</td>\n",
       "    </tr>\n",
       "    <tr>\n",
       "      <th>1</th>\n",
       "      <td>7.4</td>\n",
       "      <td>1.1</td>\n",
       "      <td>3.6</td>\n",
       "      <td>0</td>\n",
       "    </tr>\n",
       "    <tr>\n",
       "      <th>2</th>\n",
       "      <td>5.9</td>\n",
       "      <td>0.2</td>\n",
       "      <td>3.4</td>\n",
       "      <td>2</td>\n",
       "    </tr>\n",
       "    <tr>\n",
       "      <th>3</th>\n",
       "      <td>9.9</td>\n",
       "      <td>0.1</td>\n",
       "      <td>0.8</td>\n",
       "      <td>0</td>\n",
       "    </tr>\n",
       "    <tr>\n",
       "      <th>4</th>\n",
       "      <td>6.9</td>\n",
       "      <td>-0.1</td>\n",
       "      <td>0.6</td>\n",
       "      <td>2</td>\n",
       "    </tr>\n",
       "  </tbody>\n",
       "</table>\n",
       "</div>"
      ],
      "text/plain": [
       "    x1   x2   x3   z\n",
       "0  5.5  0.5  4.5   2\n",
       "1  7.4  1.1  3.6   0\n",
       "2  5.9  0.2  3.4   2\n",
       "3  9.9  0.1  0.8   0\n",
       "4  6.9 -0.1  0.6   2"
      ]
     },
     "execution_count": 2,
     "metadata": {},
     "output_type": "execute_result"
    }
   ],
   "source": [
    "data=pd.read_csv('01_homework_dataset.csv')\n",
    "y_train=data[' z'].values\n",
    "X1_train=data['x1'].values\n",
    "X2_train=data[' x2'].values\n",
    "X3_train=data[' x3'].values\n",
    "data.head()"
   ]
  },
  {
   "cell_type": "code",
   "execution_count": 3,
   "metadata": {},
   "outputs": [],
   "source": [
    "def calculate_gini(classes):\n",
    "    if len(classes)==0:\n",
    "        return 0 # best gini value as homogenous nothing\n",
    "    num_classes=len(np.unique(classes))\n",
    "    \n",
    "    class_votes = np.zeros(3)\n",
    "    for label in classes:\n",
    "        class_votes[label]+=1\n",
    "        \n",
    "    return 1-np.sum(np.square(class_votes/len(classes)))"
   ]
  },
  {
   "cell_type": "markdown",
   "metadata": {},
   "source": [
    "# Decision Tree: Root Level\n",
    "\n",
    "Find the best root nodes"
   ]
  },
  {
   "cell_type": "code",
   "execution_count": 4,
   "metadata": {},
   "outputs": [
    {
     "name": "stdout",
     "output_type": "stream",
     "text": [
      "Best split for root for x1= 4.5  with gini imporvement= 0.3614814814814815\n"
     ]
    }
   ],
   "source": [
    "# lets split by x1 first\n",
    "initGini=calculate_gini(y_train)\n",
    "SplitNodeX1={}\n",
    "for x in X1_train:\n",
    "    LGini=calculate_gini(data[data['x1']<x][' z'].values)\n",
    "    RGini=calculate_gini(data[data['x1']>=x][' z'].values)\n",
    "    GiniChange=initGini-(len(data[data['x1']<x])/len(data))*LGini-(len(data[data['x1']>=x])/len(data))*RGini\n",
    "    SplitNodeX1[x]=GiniChange\n",
    "print('Best split for root for x1=',max(SplitNodeX1, key=SplitNodeX1.get), ' with gini imporvement=',SplitNodeX1[max(SplitNodeX1, key=SplitNodeX1.get)])\n"
   ]
  },
  {
   "cell_type": "code",
   "execution_count": 5,
   "metadata": {},
   "outputs": [
    {
     "name": "stdout",
     "output_type": "stream",
     "text": [
      "Best split for root for x2= 0.4  with gini improvement= 0.0688888888888889\n"
     ]
    }
   ],
   "source": [
    "# lets split by x2 \n",
    "initGini=calculate_gini(y_train)\n",
    "SplitNodeX2={}\n",
    "for x in X2_train:\n",
    "    LGini=calculate_gini(data[data[' x2']<x][' z'].values)\n",
    "    RGini=calculate_gini(data[data[' x2']>=x][' z'].values)\n",
    "    GiniChange=initGini-(len(data[data[' x2']<x])/len(data))*LGini-(len(data[data[' x2']>=x])/len(data))*RGini\n",
    "    SplitNodeX2[x]=GiniChange\n",
    "print('Best split for root for x2=',max(SplitNodeX2, key=SplitNodeX2.get), ' with gini improvement=',SplitNodeX2[max(SplitNodeX2, key=SplitNodeX2.get)])"
   ]
  },
  {
   "cell_type": "code",
   "execution_count": 6,
   "metadata": {},
   "outputs": [
    {
     "name": "stdout",
     "output_type": "stream",
     "text": [
      "Best split for root for x3= 4.5  with gini improvement= 0.0688888888888889\n"
     ]
    }
   ],
   "source": [
    "# lets split by x3\n",
    "initGini=calculate_gini(y_train)\n",
    "SplitNodeX3={}\n",
    "for x in X3_train:\n",
    "    LGini=calculate_gini(data[data[' x3']<x][' z'].values)\n",
    "    RGini=calculate_gini(data[data[' x3']>=x][' z'].values)\n",
    "    GiniChange=initGini-(len(data[data[' x3']<x])/len(data))*LGini-(len(data[data[' x3']>=x])/len(data))*RGini\n",
    "    SplitNodeX3[x]=GiniChange\n",
    "print('Best split for root for x3=',max(SplitNodeX3, key=SplitNodeX3.get), ' with gini improvement=',SplitNodeX3[max(SplitNodeX3, key=SplitNodeX3.get)])"
   ]
  },
  {
   "cell_type": "markdown",
   "metadata": {},
   "source": [
    "From above 3 cells we see that the root note node should x1 with value of 4.5"
   ]
  },
  {
   "cell_type": "code",
   "execution_count": 7,
   "metadata": {},
   "outputs": [
    {
     "name": "stdout",
     "output_type": "stream",
     "text": [
      "Class Distrubution before split:  [2 0 2 0 2 2 1 1 0 1 0 0 1 1 1]\n",
      "Gini Value before split:  0.6577777777777778\n",
      "\n",
      "The best node is at x1=4.5\n",
      "\n",
      "Class Distrubution on Left after split:  [1 1 1 1 1 1]\n",
      "Gini Value on the left after split:  0.0\n",
      "\n",
      "Class Distrubution on Right after split:  [2 0 2 0 2 2 0 0 0]\n",
      "Gini Value on the right after split:  0.49382716049382713\n",
      "\n"
     ]
    }
   ],
   "source": [
    "# for the tree at the root\n",
    "print('Class Distrubution before split: ', y_train)\n",
    "print('Gini Value before split: ',calculate_gini(y_train))\n",
    "print('')\n",
    "print('The best node is at x1=4.5')\n",
    "print('')\n",
    "print('Class Distrubution on Left after split: ', data[data['x1']<4.5][' z'].values)\n",
    "print('Gini Value on the left after split: ',calculate_gini(data[data['x1']<4.5][' z'].values))\n",
    "print('')\n",
    "print('Class Distrubution on Right after split: ', data[data['x1']>=4.5][' z'].values)\n",
    "print('Gini Value on the right after split: ',calculate_gini(data[data['x1']>=4.5][' z'].values))\n",
    "print('')"
   ]
  },
  {
   "cell_type": "markdown",
   "metadata": {},
   "source": [
    "# Decision Tree: First Left Child\n",
    "\n",
    "Find the best nodes for the left child of the root.\n",
    "\n",
    "This step is not required as we got a perfect gini of 0.0 in the previous split"
   ]
  },
  {
   "cell_type": "markdown",
   "metadata": {},
   "source": [
    "# Decision Tree: First Right Child\n",
    "\n",
    "Find the best nodes for the split of the groups in the right child of the root.\n"
   ]
  },
  {
   "cell_type": "code",
   "execution_count": 8,
   "metadata": {},
   "outputs": [],
   "source": [
    "# Create a dataframe of remaining data points in the right child\n",
    "firstRightData=data[data['x1']>=4.5]\n",
    "\n",
    "y_train=firstRightData[' z'].values\n",
    "X1_train=firstRightData['x1'].values\n",
    "X2_train=firstRightData[' x2'].values\n",
    "X3_train=firstRightData[' x3'].values"
   ]
  },
  {
   "cell_type": "code",
   "execution_count": 9,
   "metadata": {},
   "outputs": [
    {
     "data": {
      "text/html": [
       "<div>\n",
       "<style scoped>\n",
       "    .dataframe tbody tr th:only-of-type {\n",
       "        vertical-align: middle;\n",
       "    }\n",
       "\n",
       "    .dataframe tbody tr th {\n",
       "        vertical-align: top;\n",
       "    }\n",
       "\n",
       "    .dataframe thead th {\n",
       "        text-align: right;\n",
       "    }\n",
       "</style>\n",
       "<table border=\"1\" class=\"dataframe\">\n",
       "  <thead>\n",
       "    <tr style=\"text-align: right;\">\n",
       "      <th></th>\n",
       "      <th>x1</th>\n",
       "      <th>x2</th>\n",
       "      <th>x3</th>\n",
       "      <th>z</th>\n",
       "    </tr>\n",
       "  </thead>\n",
       "  <tbody>\n",
       "    <tr>\n",
       "      <th>0</th>\n",
       "      <td>5.5</td>\n",
       "      <td>0.5</td>\n",
       "      <td>4.5</td>\n",
       "      <td>2</td>\n",
       "    </tr>\n",
       "    <tr>\n",
       "      <th>1</th>\n",
       "      <td>7.4</td>\n",
       "      <td>1.1</td>\n",
       "      <td>3.6</td>\n",
       "      <td>0</td>\n",
       "    </tr>\n",
       "    <tr>\n",
       "      <th>2</th>\n",
       "      <td>5.9</td>\n",
       "      <td>0.2</td>\n",
       "      <td>3.4</td>\n",
       "      <td>2</td>\n",
       "    </tr>\n",
       "    <tr>\n",
       "      <th>3</th>\n",
       "      <td>9.9</td>\n",
       "      <td>0.1</td>\n",
       "      <td>0.8</td>\n",
       "      <td>0</td>\n",
       "    </tr>\n",
       "    <tr>\n",
       "      <th>4</th>\n",
       "      <td>6.9</td>\n",
       "      <td>-0.1</td>\n",
       "      <td>0.6</td>\n",
       "      <td>2</td>\n",
       "    </tr>\n",
       "    <tr>\n",
       "      <th>5</th>\n",
       "      <td>6.8</td>\n",
       "      <td>-0.3</td>\n",
       "      <td>5.1</td>\n",
       "      <td>2</td>\n",
       "    </tr>\n",
       "    <tr>\n",
       "      <th>8</th>\n",
       "      <td>4.5</td>\n",
       "      <td>0.4</td>\n",
       "      <td>2.0</td>\n",
       "      <td>0</td>\n",
       "    </tr>\n",
       "    <tr>\n",
       "      <th>10</th>\n",
       "      <td>5.9</td>\n",
       "      <td>-0.1</td>\n",
       "      <td>4.4</td>\n",
       "      <td>0</td>\n",
       "    </tr>\n",
       "    <tr>\n",
       "      <th>11</th>\n",
       "      <td>9.3</td>\n",
       "      <td>-0.2</td>\n",
       "      <td>3.2</td>\n",
       "      <td>0</td>\n",
       "    </tr>\n",
       "  </tbody>\n",
       "</table>\n",
       "</div>"
      ],
      "text/plain": [
       "     x1   x2   x3   z\n",
       "0   5.5  0.5  4.5   2\n",
       "1   7.4  1.1  3.6   0\n",
       "2   5.9  0.2  3.4   2\n",
       "3   9.9  0.1  0.8   0\n",
       "4   6.9 -0.1  0.6   2\n",
       "5   6.8 -0.3  5.1   2\n",
       "8   4.5  0.4  2.0   0\n",
       "10  5.9 -0.1  4.4   0\n",
       "11  9.3 -0.2  3.2   0"
      ]
     },
     "execution_count": 9,
     "metadata": {},
     "output_type": "execute_result"
    }
   ],
   "source": [
    "firstRightData"
   ]
  },
  {
   "cell_type": "code",
   "execution_count": 10,
   "metadata": {},
   "outputs": [
    {
     "name": "stdout",
     "output_type": "stream",
     "text": [
      "Best split for root for x1= 7.4  with gini imporvement= 0.19753086419753085\n"
     ]
    }
   ],
   "source": [
    "# lets split by x1 first\n",
    "initGini=calculate_gini(y_train)\n",
    "SplitNodeX1={}\n",
    "for x in X1_train:\n",
    "    LGini=calculate_gini(firstRightData[firstRightData['x1']<x][' z'].values)\n",
    "    RGini=calculate_gini(firstRightData[firstRightData['x1']>=x][' z'].values)\n",
    "    GiniChange=initGini-(len(firstRightData[firstRightData['x1']<x])/len(firstRightData))*LGini-(len(firstRightData[firstRightData['x1']>=x])/len(firstRightData))*RGini\n",
    "    SplitNodeX1[x]=GiniChange\n",
    "print('Best split for root for x1=',max(SplitNodeX1, key=SplitNodeX1.get), ' with gini imporvement=',SplitNodeX1[max(SplitNodeX1, key=SplitNodeX1.get)])\n"
   ]
  },
  {
   "cell_type": "code",
   "execution_count": 11,
   "metadata": {},
   "outputs": [
    {
     "name": "stdout",
     "output_type": "stream",
     "text": [
      "Best split for root for x2= -0.2  with gini improvement= 0.0771604938271605\n"
     ]
    }
   ],
   "source": [
    "# lets split by x2 \n",
    "initGini=calculate_gini(y_train)\n",
    "SplitNodeX2={}\n",
    "for x in X2_train:\n",
    "    LGini=calculate_gini(firstRightData[firstRightData[' x2']<x][' z'].values)\n",
    "    RGini=calculate_gini(firstRightData[firstRightData[' x2']>=x][' z'].values)\n",
    "    GiniChange=initGini-(len(firstRightData[firstRightData[' x2']<x])/len(firstRightData))*LGini-(len(firstRightData[firstRightData[' x2']>=x])/len(firstRightData))*RGini\n",
    "    SplitNodeX2[x]=GiniChange\n",
    "print('Best split for root for x2=',max(SplitNodeX2, key=SplitNodeX2.get), ' with gini improvement=',SplitNodeX2[max(SplitNodeX2, key=SplitNodeX2.get)])"
   ]
  },
  {
   "cell_type": "code",
   "execution_count": 12,
   "metadata": {},
   "outputs": [
    {
     "name": "stdout",
     "output_type": "stream",
     "text": [
      "Best split for root for x3= 4.5  with gini improvement= 0.17636684303350963\n"
     ]
    }
   ],
   "source": [
    "# lets split by x3\n",
    "initGini=calculate_gini(y_train)\n",
    "SplitNodeX3={}\n",
    "for x in X3_train:\n",
    "    LGini=calculate_gini(firstRightData[firstRightData[' x3']<x][' z'].values)\n",
    "    RGini=calculate_gini(firstRightData[firstRightData[' x3']>=x][' z'].values)\n",
    "    GiniChange=initGini-(len(firstRightData[firstRightData[' x3']<x])/len(firstRightData))*LGini-(len(firstRightData[firstRightData[' x3']>=x])/len(firstRightData))*RGini\n",
    "    SplitNodeX3[x]=GiniChange\n",
    "print('Best split for root for x3=',max(SplitNodeX3, key=SplitNodeX3.get), ' with gini improvement=',SplitNodeX3[max(SplitNodeX3, key=SplitNodeX3.get)])"
   ]
  },
  {
   "cell_type": "markdown",
   "metadata": {},
   "source": [
    "From above 3 cells we see that the root note node should x1 with value of 7.4"
   ]
  },
  {
   "cell_type": "code",
   "execution_count": 13,
   "metadata": {},
   "outputs": [
    {
     "name": "stdout",
     "output_type": "stream",
     "text": [
      "Class Distrubution before split:  [2 0 2 0 2 2 0 0 0]\n",
      "Gini Value before split:  0.49382716049382713\n",
      "\n",
      "The best node is at x1=7.4\n",
      "\n",
      "Class Distrubution on Left after split:  [2 2 2 2 0 0]\n",
      "Gini Value on the left after split:  0.4444444444444444\n",
      "\n",
      "Class Distrubution on Right after split:  [0 0 0]\n",
      "Gini Value on the right after split:  0.0\n",
      "\n"
     ]
    }
   ],
   "source": [
    "# for the tree at the root\n",
    "print('Class Distrubution before split: ', y_train)\n",
    "print('Gini Value before split: ',calculate_gini(y_train))\n",
    "print('')\n",
    "print('The best node is at x1=7.4')\n",
    "print('')\n",
    "print('Class Distrubution on Left after split: ', firstRightData[firstRightData['x1']<7.4][' z'].values)\n",
    "print('Gini Value on the left after split: ',calculate_gini(firstRightData[firstRightData['x1']<7.4][' z'].values))\n",
    "print('')\n",
    "print('Class Distrubution on Right after split: ', firstRightData[firstRightData['x1']>=7.4][' z'].values)\n",
    "print('Gini Value on the right after split: ',calculate_gini(firstRightData[firstRightData['x1']>=7.4][' z'].values))\n",
    "print('')"
   ]
  },
  {
   "cell_type": "markdown",
   "metadata": {},
   "source": [
    "# Final Tree"
   ]
  },
  {
   "cell_type": "code",
   "execution_count": 14,
   "metadata": {},
   "outputs": [],
   "source": [
    "def decision_tree(train_data):\n",
    "    if train_data[0]<4.5:\n",
    "        return 1\n",
    "    elif train_data[0]<7.4:\n",
    "        return 0\n",
    "    else:\n",
    "        return 2"
   ]
  },
  {
   "cell_type": "code",
   "execution_count": 15,
   "metadata": {},
   "outputs": [],
   "source": [
    "xa=[4.1, -0.1, 2.2]\n",
    "xb = [6.1, 0.4, 1.3]"
   ]
  },
  {
   "cell_type": "code",
   "execution_count": 16,
   "metadata": {},
   "outputs": [
    {
     "data": {
      "text/plain": [
       "1"
      ]
     },
     "execution_count": 16,
     "metadata": {},
     "output_type": "execute_result"
    }
   ],
   "source": [
    "ya_pred=decision_tree(xa)\n",
    "ya_pred"
   ]
  },
  {
   "cell_type": "code",
   "execution_count": 17,
   "metadata": {},
   "outputs": [
    {
     "data": {
      "text/plain": [
       "0"
      ]
     },
     "execution_count": 17,
     "metadata": {},
     "output_type": "execute_result"
    }
   ],
   "source": [
    "yb_pred=decision_tree(xb)\n",
    "yb_pred"
   ]
  },
  {
   "cell_type": "markdown",
   "metadata": {
    "collapsed": true
   },
   "source": [
    "# Finding probabilities"
   ]
  },
  {
   "cell_type": "markdown",
   "metadata": {},
   "source": [
    "probability is given by the formula\n",
    "\n",
    "$p(y=c|R)$ = $n_c,R/(\\sum n_C_i,R)$\n",
    "\n",
    "so $p(c = 1|T) = 6/6 = 1$\n",
    "\n",
    "$p(c = 0|T) = 5/9$\n",
    "    "
   ]
  },
  {
   "cell_type": "code",
   "execution_count": null,
   "metadata": {},
   "outputs": [],
   "source": []
  }
 ],
 "metadata": {
  "kernelspec": {
   "display_name": "Python 3",
   "language": "python",
   "name": "python3"
  },
  "language_info": {
   "codemirror_mode": {
    "name": "ipython",
    "version": 3
   },
   "file_extension": ".py",
   "mimetype": "text/x-python",
   "name": "python",
   "nbconvert_exporter": "python",
   "pygments_lexer": "ipython3",
   "version": "3.6.5"
  }
 },
 "nbformat": 4,
 "nbformat_minor": 2
}
