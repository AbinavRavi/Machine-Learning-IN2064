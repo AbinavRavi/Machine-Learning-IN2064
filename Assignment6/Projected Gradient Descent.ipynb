{
 "cells": [
  {
   "cell_type": "code",
   "execution_count": 1,
   "metadata": {
    "collapsed": true
   },
   "outputs": [],
   "source": [
    "import numpy as np\n",
    "import matplotlib.pyplot as plt\n"
   ]
  },
  {
   "cell_type": "markdown",
   "metadata": {},
   "source": [
    "# Visualisation"
   ]
  },
  {
   "cell_type": "code",
   "execution_count": 2,
   "metadata": {},
   "outputs": [
    {
     "data": {
      "image/png": "[encoded data removed]",
      "text/plain": [
       "<matplotlib.figure.Figure at 0x7f5ec9ebcda0>"
      ]
     },
     "metadata": {},
     "output_type": "display_data"
    }
   ],
   "source": [
    "theta=np.linspace(-1,5,10)\n",
    "f_theta=4*np.ones_like(theta)-theta\n",
    "plt.plot(theta,f_theta,'-r')\n",
    "plt.plot(theta,2.5*np.ones_like(theta),'-r')\n",
    "plt.plot(theta,np.zeros_like(theta),'-r')\n",
    "plt.plot(np.zeros_like(theta),theta,'-r')\n",
    "plt.plot(3*np.ones_like(theta),theta,'-r')\n",
    "plt.fill([0,3,3,1.5,0],[0,0,1,2.5,2.5])\n",
    "plt.title('Convex Domain')\n",
    "plt.xlabel('$x_1$')\n",
    "plt.ylabel('$x_2$')\n",
    "plt.show()"
   ]
  },
  {
   "cell_type": "markdown",
   "metadata": {},
   "source": [
    "# Closed Form Projection"
   ]
  },
  {
   "cell_type": "code",
   "execution_count": 3,
   "metadata": {},
   "outputs": [],
   "source": [
    "\n",
    "def projectionPi(p):\n",
    "    p[0]=max(min(p[0],3),0)\n",
    "    p[1]=max(min(p[1],2.5),0)\n",
    "        \n",
    "   \n",
    "    a=np.array([1.5,2.5])\n",
    "    b=np.array([3,1])\n",
    "    if 1.5<=p[0]<= 3 and 1<=p[1]<=2.5 and p[0]+p[1]>4:\n",
    "        p=a+(np.dot(np.transpose(p-a),(b-a))/np.linalg.norm(b-a)**2)*(b-a)\n",
    "\n",
    "    return p"
   ]
  },
  {
   "cell_type": "markdown",
   "metadata": {},
   "source": [
    "# Gradient Descent"
   ]
  },
  {
   "cell_type": "code",
   "execution_count": 4,
   "metadata": {
    "collapsed": true
   },
   "outputs": [],
   "source": [
    "def gradientDescent(x,lr):\n",
    "    grad=np.array([2*(x[0]-2), 2*(2*x[1]-7)])\n",
    "    x=projectionPi(x-lr*grad)\n",
    "    \n",
    "    return x\n",
    "    "
   ]
  },
  {
   "cell_type": "code",
   "execution_count": 5,
   "metadata": {},
   "outputs": [
    {
     "name": "stdout",
     "output_type": "stream",
     "text": [
      "[2.45 1.5 ]\n",
      "[2.2525 1.7475]\n"
     ]
    }
   ],
   "source": [
    "x=np.array([2.5,1])\n",
    "for i in range(2):\n",
    "    x=gradientDescent(x,0.05)\n",
    "    print(x)"
   ]
  }
 ],
 "metadata": {
  "kernelspec": {
   "display_name": "Python 3",
   "language": "python",
   "name": "python3"
  },
  "language_info": {
   "codemirror_mode": {
    "name": "ipython",
    "version": 3
   },
   "file_extension": ".py",
   "mimetype": "text/x-python",
   "name": "python",
   "nbconvert_exporter": "python",
   "pygments_lexer": "ipython3",
   "version": "3.6.3"
  }
 },
 "nbformat": 4,
 "nbformat_minor": 2
}
